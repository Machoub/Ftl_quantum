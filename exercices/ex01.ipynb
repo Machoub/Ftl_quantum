{
 "cells": [
  {
   "cell_type": "code",
   "execution_count": 2,
   "id": "a1c6d550",
   "metadata": {},
   "outputs": [],
   "source": [
    "import os\n",
    "from qiskit_aer import Aer\n",
    "from qiskit_ibm_runtime import QiskitRuntimeService\n",
    "\n",
    "api_token = os.environ[\"IBM_API_KEY\"]\n",
    "CRN = os.environ[\"CRN\"]\n",
    "service = QiskitRuntimeService.save_account(token=api_token, overwrite=True, set_as_default=True,channel = 'ibm_cloud', instance=CRN)"
   ]
  },
  {
   "cell_type": "code",
   "execution_count": 8,
   "id": "b90914ec-9773-48eb-a13f-75f615159d15",
   "metadata": {
    "scrolled": true
   },
   "outputs": [
    {
     "name": "stdout",
     "output_type": "stream",
     "text": [
      "Real quantum computer\n",
      "\tibm_brisbane    has 1706 queues with 127 qubits\n",
      "\tibm_torino      has 5423 queues with 133 qubits\n"
     ]
    }
   ],
   "source": [
    "backend = QiskitRuntimeService().backends(operational=True, simulator=False)\n",
    "\n",
    "print(\"Real quantum computer\")\n",
    "for x in backend:\n",
    "    print(f'\\t{x.name:<15s} has {x.status().pending_jobs:4}'\n",
    "          f' queues with {x.num_qubits:3} qubits')\n",
    "\n"
   ]
  },
  {
   "cell_type": "code",
   "execution_count": 9,
   "id": "6188f821",
   "metadata": {},
   "outputs": [
    {
     "name": "stdout",
     "output_type": "stream",
     "text": [
      "Simulate quantum computer\n",
      "\taer_simulator   has    0 | Qubits: 29\"\n",
      "\taer_simulator_statevector has    0 | Qubits: 29\"\n",
      "\taer_simulator_density_matrix has    0 | Qubits: 14\"\n",
      "\taer_simulator_stabilizer has    0 | Qubits: 10000\"\n",
      "\taer_simulator_matrix_product_state has    0 | Qubits: 63\"\n",
      "\taer_simulator_extended_stabilizer has    0 | Qubits: 63\"\n",
      "\taer_simulator_unitary has    0 | Qubits: 14\"\n",
      "\taer_simulator_superop has    0 | Qubits: 7\"\n",
      "\tqasm_simulator  has    0 | Qubits: 29\"\n",
      "\tstatevector_simulator has    0 | Qubits: 29\"\n",
      "\tunitary_simulator has    0 | Qubits: 14\"\n"
     ]
    }
   ],
   "source": [
    "aer_quantum_simulator = Aer.backends()\n",
    "backend_simulator = QiskitRuntimeService().backends(operational=True, simulator=True)\n",
    "\n",
    "print(\"Simulate quantum computer\")\n",
    "for x in backend_simulator:\n",
    "    print(f'\\t{x.name:<15s} has {x.status().pending_jobs:4}')\n",
    "for y in aer_quantum_simulator:\n",
    "    print(f'\\t{y.name:<15s} has {y.status().pending_jobs:4} | Qubits: {y.configuration().n_qubits}\"')"
   ]
  },
  {
   "cell_type": "code",
   "execution_count": null,
   "id": "5c8ffc7c-7ece-4540-85f8-531b83477303",
   "metadata": {},
   "outputs": [],
   "source": []
  }
 ],
 "metadata": {
  "kernelspec": {
   "display_name": ".venv",
   "language": "python",
   "name": "python3"
  },
  "language_info": {
   "codemirror_mode": {
    "name": "ipython",
    "version": 3
   },
   "file_extension": ".py",
   "mimetype": "text/x-python",
   "name": "python",
   "nbconvert_exporter": "python",
   "pygments_lexer": "ipython3",
   "version": "3.10.17"
  }
 },
 "nbformat": 4,
 "nbformat_minor": 5
}
